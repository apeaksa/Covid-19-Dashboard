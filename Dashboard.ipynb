{
  "cells": [
    {
      "cell_type": "code",
      "execution_count": null,
      "metadata": {
        "id": "QA53TE1E-phm"
      },
      "outputs": [],
      "source": [
        "import plotly\n",
        "import chart_studio\n",
        "import chart_studio.plotly as py\n",
        "import plotly.graph_objs as go\n",
        "import numpy as np\n",
        "import pandas as pd\n",
        "\n",
        "time_data=pd.read_csv(\"F:\\\\semester 8\\\\Advanced Analytics\\\\package\\\\case_time_series.csv\")\n",
        "time_data.head()\n",
        "time_data.columns\n",
        "\n",
        "colors=['#FD3216','#00B5F7','#1CBE4F','rgb(179,179,179)']\n",
        "fig = go.Figure()\n",
        "fig.add_trace(go.Scatter(x= time_data['Date'],y = time_data['Total Confirmed'],name='Confirmed',marker={'color': colors[0]}))\n",
        "fig.add_trace(go.Scatter(x= time_data['Date'],y = time_data['Total Active'],name='Active',marker={'color': colors[1]}))\n",
        "fig.add_trace(go.Scatter(x= time_data['Date'],y = time_data['Total Recovered'],name='Recovered',marker={'color': colors[2]}))\n",
        "fig.add_trace(go.Scatter(x= time_data['Date'],y = time_data['Total Deceased'],name='Deceased',marker={'color': colors[3]}))\n",
        "\n",
        "fig.update_xaxes(tickfont=dict(family=\"Courier New, monospace\", color='#222A2A', size=12))\n",
        "fig.update_yaxes(tickfont=dict(family=\"Courier New, monospace\", color='#222A2A', size=12))\n",
        "\n",
        "fig.layout.update(\n",
        "    title=\"Covid-19 Cases in India\",\n",
        "    xaxis_title=\"Dates\",\n",
        "    yaxis_title=\"No. of cases\",\n",
        "    font=dict(\n",
        "        family=\"Courier New, monospace\",\n",
        "        size=14,\n",
        "        color=\"#7f7f7f\")\n",
        "    )\n",
        "chart_studio.tools.set_credentials_file(\"apeaksa\",\"yNP8lAJFtNfKrwPkd4Fh\")\n",
        "url_1 = py.plot(fig, filename='Covid-19_plot', auto_open=True)\n"
      ]
    },
    {
      "cell_type": "code",
      "execution_count": null,
      "metadata": {
        "id": "stD0r4JY-phn"
      },
      "outputs": [],
      "source": [
        "import chart_studio.plotly as py\n",
        "data= pd.read_csv(\"F:\\\\semester 8\\\\Advanced Analytics\\\\package\\\\state_wise.csv\")\n",
        "data.head()\n",
        "data=data[data.columns[:6]]\n",
        "s_data=data.drop(data.index[0])\n",
        "\n",
        "colors=['#FD3216','#00B5F7','#1CBE4F','rgb(179,179,179)']\n",
        "\n",
        "fig = go.Figure()\n",
        "fig.add_trace(go.Bar(x= s_data['Confirmed'],y = s_data['State'],name='Confirmed',marker={'color':'#FD3216' },orientation='h'))\n",
        "fig.add_trace(go.Bar(x=  s_data['Active'],y = s_data['State'],name='Active',marker={'color': colors[1]},orientation='h'))\n",
        "fig.add_trace(go.Bar(x=  s_data['Recovered'],y = s_data['State'],name='Recovered',marker={'color': colors[2]},orientation='h'))\n",
        "fig.add_trace(go.Bar(x=  s_data['Deaths'],y = s_data['State'],name='Deceased',marker={'color': colors[3]},orientation='h'))\n",
        "\n",
        "fig.update_layout(barmode='group')\n",
        "\n",
        "fig.update_xaxes(tickfont=dict(family=\"Courier New, monospace\", color='#222A2A', size=10))\n",
        "fig.update_yaxes(tickfont=dict(family=\"Courier New, monospace\", color='#222A2A', size=10),tickmode='linear')\n",
        "\n",
        "fig.layout.update(\n",
        "    title=\"'Total Confirmed Cases Statewise'\",\n",
        "    yaxis_title=\"State\",\n",
        "    xaxis_title=\"No. of Confirmed cases\",\n",
        "    font=dict(\n",
        "        family=\"Courier New, monospace\",\n",
        "        size=16,\n",
        "        color=\"#7f7f7f\")\n",
        "    )\n",
        "\n",
        "url_2 = py.plot(fig, filename='Confirmed_plot_statewise', auto_open=True)\n"
      ]
    },
    {
      "cell_type": "code",
      "execution_count": null,
      "metadata": {
        "id": "qX24MMtl-pho"
      },
      "outputs": [],
      "source": [
        "import plotly\n",
        "import chart_studio\n",
        "import chart_studio.plotly as py\n",
        "import plotly.graph_objs as go\n",
        "import numpy as np\n",
        "import pandas as pd\n",
        "\n",
        "t_c=data.iloc[0,1]\n",
        "t_a=data.iloc[0,4]\n",
        "t_r=data.iloc[0,2]\n",
        "t_d=data.iloc[0,3]\n",
        "\n",
        "fig=go.Figure()\n",
        "\n",
        "fig.add_trace(go.Indicator(\n",
        "    mode = \"gauge+number\",\n",
        "    value = t_c,\n",
        "))\n",
        "\n",
        "fig.show()"
      ]
    },
    {
      "cell_type": "code",
      "execution_count": null,
      "metadata": {
        "id": "9L0cI1Qn-php"
      },
      "outputs": [],
      "source": [
        "group_labels = ['Active','Recovered','Deceased']\n",
        "values=[data['Active'][0], data['Recovered'][0], data['Deaths'][0]]\n",
        "colors=['#19D3F3','#B6E880','#FD3216']\n",
        "\n",
        "fig = go.Figure(data=[go.Pie(labels=group_labels, values=values,marker={'colors': colors})])\n",
        "\n",
        "url_3 = py.plot(fig, filename='Pie_chart', auto_open=False)"
      ]
    },
    {
      "cell_type": "code",
      "execution_count": null,
      "metadata": {
        "id": "YoqctzTP-php",
        "outputId": "2c96c20c-931b-4b8e-b757-0a25637e9495"
      },
      "outputs": [
        {
          "data": {
            "text/plain": [
              "<Figure size 432x288 with 0 Axes>"
            ]
          },
          "metadata": {},
          "output_type": "display_data"
        },
        {
          "data": {
            "image/png": "[encoded data removed]",
            "text/plain": [
              "<Figure size 1440x864 with 2 Axes>"
            ]
          },
          "metadata": {
            "needs_background": "light"
          },
          "output_type": "display_data"
        }
      ],
      "source": [
        "import matplotlib.pyplot as plt\n",
        "import matplotlib.ticker as plticker\n",
        "import geopandas as gpd\n",
        "import plotly.express as px\n",
        "import plotly.offline as py\n",
        "from PIL import Image\n",
        "\n",
        "map_data = gpd.read_file('F:\\semester 8\\Advanced Analytics\\package\\Indian_States.shp')\n",
        "map_data.rename(columns = {'st_nm':'State'}, inplace = True)\n",
        "map_data.head()\n",
        "\n",
        "map_data['State'] = map_data['State'].str.replace('&', 'and')\n",
        "map_data['State'].replace('Arunanchal Pradesh', 'Arunachal Pradesh', inplace = True)\n",
        "map_data['State'].replace('Dadara and Nagar Havelli', 'Dadra and Nagar Haveli', inplace = True)\n",
        "map_data['State'].replace('Andaman and Nicobar Island', 'Andaman and Nicobar Islands', inplace = True)\n",
        "map_data['State'].replace('NCT of Delhi', 'Delhi', inplace = True)\n",
        "\n",
        "m_data=data.drop(data.index[0])\n",
        "\n",
        "merged_data = pd.merge(map_data, m_data, how = 'left', on = 'State')\n",
        "merged_data.fillna(0, inplace = True)\n",
        "#merged_data.drop('Sr.No', axis = 1, inplace = True)\n",
        "merged_data.head()\n",
        "\n",
        "fig=plt.figure()\n",
        "fig, ax = plt.subplots(1, figsize=(20, 12))\n",
        "ax.axis('off')\n",
        "ax.set_title('Covid-19 State-wise Data - Confirmed Cases', fontdict = {'fontsize': '25', 'fontweight' : '3'})\n",
        "merged_data.plot(column = 'Confirmed', cmap='YlOrRd', linewidth=0.8, ax=ax, edgecolor='0.8', legend = True)\n",
        "plt.savefig('F:\\semester 8\\Advanced Analytics\\package\\plot.jpg')\n",
        "\n",
        "\n"
      ]
    },
    {
      "cell_type": "code",
      "execution_count": null,
      "metadata": {
        "id": "9rClPHT4-php"
      },
      "outputs": [],
      "source": [
        "import chart_studio.plotly as py\n",
        "\n",
        "from skimage import io\n",
        "img = io.imread('F:\\semester 8\\Advanced Analytics\\package\\kmf.jpg')\n",
        "fig = px.imshow(img)\n",
        "fig.update_xaxes(showticklabels=False)\n",
        "fig.update_yaxes(showticklabels=False)\n",
        "\n",
        "\n",
        "\n",
        "# Export plot to plotly\n",
        "url_5 = py.plot(fig, filename=\"kmf_plot\")"
      ]
    },
    {
      "cell_type": "code",
      "execution_count": null,
      "metadata": {
        "id": "jJk6CVvY-php"
      },
      "outputs": [],
      "source": [
        "layout = go.Layout(\n",
        "    title = 'Overview',\n",
        "    xaxis = go.XAxis(\n",
        "        title = 'Time',\n",
        "        showticklabels=False),\n",
        "    yaxis = go.YAxis(\n",
        "        title = 'Age'\n",
        "    )\n",
        ")"
      ]
    },
    {
      "cell_type": "code",
      "execution_count": null,
      "metadata": {
        "id": "E1ZhgRKh-php"
      },
      "outputs": [],
      "source": [
        "import statsmodels.api as sm\n",
        "\n",
        "mod = sm.tsa.statespace.SARIMAX(time_data['Total Confirmed'],\n",
        "                                order=(1, 1, 1),\n",
        "                                seasonal_order=(0, 1, 1, 12),\n",
        "                                enforce_stationarity=False,\n",
        "                                enforce_invertibility=False)\n",
        "\n",
        "results = mod.fit()\n",
        "forecast= results.predict(start=len(time_data['Total Confirmed']), end=len(time_data['Total Confirmed'])+10)\n",
        "colors=['#FF9616','#FB0D0D']"
      ]
    },
    {
      "cell_type": "code",
      "execution_count": null,
      "metadata": {
        "id": "w3tHf8qH-phq",
        "outputId": "3537b31f-f47e-4641-c97e-c6acb4966568"
      },
      "outputs": [
        {
          "data": {
            "text/html": [
              "<iframe id=\"igraph\" scrolling=\"no\" style=\"border:none;\" seamless=\"seamless\" src=\"https://plot.ly/~apeaksa/17.embed\" height=\"525px\" width=\"100%\"></iframe>"
            ],
            "text/plain": [
              "<chart_studio.tools.PlotlyDisplay object>"
            ]
          },
          "execution_count": 245,
          "metadata": {},
          "output_type": "execute_result"
        }
      ],
      "source": [
        "from plotly.subplots import make_subplots\n",
        "\n",
        "fig =go.Figure()\n",
        "fig.add_trace(go.Scatter(x=list(range(len(time_data['Total Confirmed']))),y = time_data['Total Confirmed'],name='Confirmed',marker={'color': colors[0]}))\n",
        "fig.add_trace(go.Scatter(x=list(range(len(time_data['Total Confirmed']),len(time_data['Total Confirmed'])+10)),y = forecast,name='Forecasted',marker={'color': colors[1]}))\n",
        "\n",
        "fig.layout.update(\n",
        "    title=\"Covid-19 Cases in India\",\n",
        "    yaxis_title=\"No. of Cases\",\n",
        "    xaxis_title=\"No. of Days\",\n",
        "    font=dict(\n",
        "        family=\"Courier New, monospace\",\n",
        "        size=12,\n",
        "        color=\"#7f7f7f\")\n",
        "    )\n",
        "plotly.tools.set_credentials_file(\"apeaksa\",\"yNP8lAJFtNfKrwPkd4Fh\")\n",
        "url_4 = py.plot(fig, filename='Forecasted_plot', auto_open=False)\n",
        "py.iplot(fig, filename='Forecasted_plot')"
      ]
    },
    {
      "cell_type": "code",
      "execution_count": null,
      "metadata": {
        "id": "cRhXNM_Y-phq"
      },
      "outputs": [],
      "source": [
        "import plotly.graph_objects as go\n",
        "\n",
        "fig = go.Figure(go.Indicator(\n",
        "    mode = \"gauge+number\",\n",
        "    value = 450,\n",
        "    title = {'text': \"Speed\"},\n",
        "    domain = {'x': [0, 1], 'y': [0, 1]}\n",
        "))\n",
        "\n",
        "fig.show()"
      ]
    },
    {
      "cell_type": "code",
      "execution_count": null,
      "metadata": {
        "id": "-urGdPNJ-phq",
        "outputId": "8f5123e7-a761-4747-f2cb-41a656e89c41"
      },
      "outputs": [
        {
          "data": {
            "text/html": [
              "\n",
              "<!DOCTYPE HTML>\n",
              "<html>\n",
              "  <head>\n",
              "    <style>\n",
              "      body {\n",
              "        margin: 0px;\n",
              "        padding: 0px;\n",
              "      }\n",
              "    </style>\n",
              "  </head>\n",
              "  <body>\n",
              "    <canvas id=\"myCanvas\" width=\"500\" height=\"500\"></canvas>\n",
              "    <script>\n",
              "      var canvas = document.getElementById('myCanvas');\n",
              "      var context = canvas.getContext('2d');\n",
              "      <!-- Dashboard -->\n",
              "      context.beginPath();\n",
              "      context.rect(0, 0, 500, 500);\n",
              "      context.lineWidth = 2;\n",
              "      context.strokeStyle = 'black';\n",
              "      context.stroke();\n",
              "      </script>\n",
              "  </body>\n",
              "</html>\n"
            ],
            "text/plain": [
              "<IPython.core.display.HTML object>"
            ]
          },
          "execution_count": 160,
          "metadata": {},
          "output_type": "execute_result"
        }
      ],
      "source": [
        "import chart_studio.dashboard_objs as dashboard\n",
        "import IPython.display\n",
        "from IPython.display import Image\n",
        "\n",
        "my_dboard = dashboard.Dashboard()\n",
        "my_dboard.get_preview()"
      ]
    },
    {
      "cell_type": "code",
      "execution_count": null,
      "metadata": {
        "id": "IOG194dJ-phq"
      },
      "outputs": [],
      "source": [
        "import re\n",
        "\n",
        "def fileId_from_url(url):\n",
        "    raw_fileId = re.findall(\"~[A-z]+/[0-9]+\", url)[0][1: ]\n",
        "    return raw_fileId.replace('/', ':')\n",
        "\n",
        "def sharekey_from_url(url):\n",
        "    if 'share_key=' not in url:\n",
        "        return \"This url is not 'sercret'. It does not have a secret key.\"\n",
        "    return url[url.find('share_key=') + len('share_key='):]\n",
        "\n",
        "fileId_1 = fileId_from_url(url_1)\n",
        "fileId_2 = fileId_from_url(url_2)\n",
        "fileId_3 = fileId_from_url(url_1)\n",
        "fileId_4 = fileId_from_url(url_2)\n",
        "\n",
        "box_a = {\n",
        "    'type': 'box',\n",
        "    'boxType': 'plot',\n",
        "    'fileId': 'apeaksa:37',\n",
        "    'title': 'Confirmed cases'\n",
        "}\n",
        "\n",
        "box_b = {\n",
        "    'type': 'box',\n",
        "    'boxType': 'plot',\n",
        "    'fileId': 'apeaksa:6',\n",
        "    'title': 'State_wise plot'\n",
        "}\n",
        "\n",
        "box_c = {\n",
        "    'type': 'box',\n",
        "    'boxType': 'plot',\n",
        "    'fileId': 'apeaksa:20',\n",
        "    'title': 'Covid-19 Plot'\n",
        "}\n",
        "\n",
        "box_d = {\n",
        "    'type': 'box',\n",
        "    'boxType': 'plot',\n",
        "    'fileId':'apeaksa:27',\n",
        "    'title': 'India chart'\n",
        "}\n",
        "\n"
      ]
    },
    {
      "cell_type": "code",
      "execution_count": null,
      "metadata": {
        "id": "eewFuPEU-phq"
      },
      "outputs": [],
      "source": [
        "box_a = {\n",
        "    'type': 'box',\n",
        "    'boxType': 'plot',\n",
        "    'fileId': 'apeaksa:38',\n",
        "    'title': 'Active Cases'\n",
        "}\n",
        "\n",
        "box_b = {\n",
        "    'type': 'box',\n",
        "    'boxType': 'plot',\n",
        "    'fileId': 'apeaksa:39',\n",
        "    'title': 'Recovered Cases'\n",
        "}\n",
        "\n",
        "box_c = {\n",
        "    'type': 'box',\n",
        "    'boxType': 'plot',\n",
        "    'fileId': 'apeaksa:40',\n",
        "    'title': 'Deceased Cases'\n",
        "}"
      ]
    },
    {
      "cell_type": "code",
      "execution_count": null,
      "metadata": {
        "id": "xv6edCbh-phq"
      },
      "outputs": [],
      "source": [
        "my_dboard.insert(box_a)\n",
        "my_dboard.insert(box_b, 'below', 1,fill_percent=90)\n",
        "my_dboard.insert(box_c, 'below', 2,fill_percent=60)\n",
        "my_dboard.insert(box_d, 'below', 3,fill_percent=50)"
      ]
    },
    {
      "cell_type": "code",
      "execution_count": null,
      "metadata": {
        "id": "tiIzXp32-phq"
      },
      "outputs": [],
      "source": [
        "my_dboard.insert(box_a, 'right', 1,fill_percent=75)\n",
        "my_dboard.insert(box_b, 'right',2,fill_percent=75)\n",
        "my_dboard.insert(box_c, 'right',3,fill_percent=50)"
      ]
    },
    {
      "cell_type": "code",
      "execution_count": null,
      "metadata": {
        "id": "AbqmwZpe-phq"
      },
      "outputs": [],
      "source": [
        "box_a = {\n",
        "    'type': 'box',\n",
        "    'boxType': 'plot',\n",
        "    'fileId': 'apeaksa:42',\n",
        "    'title': 'State_Data'\n",
        "}\n"
      ]
    },
    {
      "cell_type": "code",
      "execution_count": null,
      "metadata": {
        "id": "1ZcQc0py-phq"
      },
      "outputs": [],
      "source": [
        "box_b = {\n",
        "    'type': 'box',\n",
        "    'boxType': 'plot',\n",
        "    'fileId': 'apeaksa:13',\n",
        "    'title': 'Pie Chart'\n",
        "}\n",
        "\n",
        "box_c = {\n",
        "    'type': 'box',\n",
        "    'boxType': 'plot',\n",
        "    'fileId': 'apeaksa:17',\n",
        "    'title': 'Forecasted Chart'\n",
        "}"
      ]
    },
    {
      "cell_type": "code",
      "execution_count": null,
      "metadata": {
        "id": "4D2tt-Em-phq"
      },
      "outputs": [],
      "source": [
        "box_b = {\n",
        "    'type': 'box',\n",
        "    'boxType': 'plot',\n",
        "    'fileId': 'apeaksa:34',\n",
        "    'title': 'kmf_survival_plot'\n",
        "}\n",
        "\n",
        "box_c = {\n",
        "    'type': 'box',\n",
        "    'boxType': 'plot',\n",
        "    'fileId': 'apeaksa:28',\n",
        "    'title': 'survival_probability'\n",
        "}"
      ]
    },
    {
      "cell_type": "code",
      "execution_count": null,
      "metadata": {
        "id": "ISK63a2T-phr"
      },
      "outputs": [],
      "source": [
        "my_dboard.insert(box_a, 'right', 5,fill_percent=40)\n",
        "my_dboard.insert(box_b, 'right', 7,fill_percent=40)\n",
        "my_dboard.insert(box_c, 'below', 8,fill_percent=50)\n",
        "my_dboard.insert(box_b, 'right', 10,fill_percent=40)\n",
        "my_dboard.insert(box_c, 'below', 11,fill_percent=50)"
      ]
    },
    {
      "cell_type": "code",
      "execution_count": null,
      "metadata": {
        "id": "ZrcFFdHG-phr",
        "outputId": "f2f50d3f-ff90-4270-f7d9-03b974d4d7bc"
      },
      "outputs": [
        {
          "data": {
            "text/html": [
              "\n",
              "<!DOCTYPE HTML>\n",
              "<html>\n",
              "  <head>\n",
              "    <style>\n",
              "      body {\n",
              "        margin: 0px;\n",
              "        padding: 0px;\n",
              "      }\n",
              "    </style>\n",
              "  </head>\n",
              "  <body>\n",
              "    <canvas id=\"myCanvas\" width=\"500\" height=\"500\"></canvas>\n",
              "    <script>\n",
              "      var canvas = document.getElementById('myCanvas');\n",
              "      var context = canvas.getContext('2d');\n",
              "      <!-- Dashboard -->\n",
              "      context.beginPath();\n",
              "      context.rect(0, 0, 500, 500);\n",
              "      context.lineWidth = 2;\n",
              "      context.strokeStyle = 'black';\n",
              "      context.stroke();\n",
              "     <!-- Draw some lines in -->\n",
              "          context.beginPath();\n",
              "          context.rect(0, 50.0, 500, 1);\n",
              "          context.lineWidth = 1;\n",
              "          context.strokeStyle = 'black';\n",
              "          context.stroke();\n",
              "    <!-- Draw some lines in -->\n",
              "          context.beginPath();\n",
              "          context.rect(125.0, 0, 1, 50.0);\n",
              "          context.lineWidth = 1;\n",
              "          context.strokeStyle = 'black';\n",
              "          context.stroke();\n",
              "    <!-- Draw some lines in -->\n",
              "          context.beginPath();\n",
              "          context.rect(0, 230.0, 500, 1);\n",
              "          context.lineWidth = 1;\n",
              "          context.strokeStyle = 'black';\n",
              "          context.stroke();\n",
              "    <!-- Insert box numbers -->\n",
              "          context.font = '9pt Times New Roman';\n",
              "          context.textAlign = 'center';\n",
              "          context.fillText(1, 0 + 0.5*125.0, 0 + 0.5*50.0);\n",
              "    <!-- Draw some lines in -->\n",
              "          context.beginPath();\n",
              "          context.rect(218.75, 0, 1, 50.0);\n",
              "          context.lineWidth = 1;\n",
              "          context.strokeStyle = 'black';\n",
              "          context.stroke();\n",
              "    <!-- Draw some lines in -->\n",
              "          context.beginPath();\n",
              "          context.rect(300.0, 50.0, 1, 180.0);\n",
              "          context.lineWidth = 1;\n",
              "          context.strokeStyle = 'black';\n",
              "          context.stroke();\n",
              "    <!-- Draw some lines in -->\n",
              "          context.beginPath();\n",
              "          context.rect(0, 365.0, 500, 1);\n",
              "          context.lineWidth = 1;\n",
              "          context.strokeStyle = 'black';\n",
              "          context.stroke();\n",
              "    <!-- Insert box numbers -->\n",
              "          context.font = '9pt Times New Roman';\n",
              "          context.textAlign = 'center';\n",
              "          context.fillText(2, 125.0 + 0.5*93.75, 0 + 0.5*50.0);\n",
              "    <!-- Draw some lines in -->\n",
              "          context.beginPath();\n",
              "          context.rect(359.375, 0, 1, 50.0);\n",
              "          context.lineWidth = 1;\n",
              "          context.strokeStyle = 'black';\n",
              "          context.stroke();\n",
              "    <!-- Insert box numbers -->\n",
              "          context.font = '9pt Times New Roman';\n",
              "          context.textAlign = 'center';\n",
              "          context.fillText(5, 0 + 0.5*300.0, 50.0 + 0.5*180.0);\n",
              "    <!-- Insert box numbers -->\n",
              "          context.font = '9pt Times New Roman';\n",
              "          context.textAlign = 'center';\n",
              "          context.fillText(6, 300.0 + 0.5*200.0, 50.0 + 0.5*180.0);\n",
              "    <!-- Draw some lines in -->\n",
              "          context.beginPath();\n",
              "          context.rect(300.0, 230.0, 1, 135.0);\n",
              "          context.lineWidth = 1;\n",
              "          context.strokeStyle = 'black';\n",
              "          context.stroke();\n",
              "    <!-- Draw some lines in -->\n",
              "          context.beginPath();\n",
              "          context.rect(300.0, 365.0, 1, 135.0);\n",
              "          context.lineWidth = 1;\n",
              "          context.strokeStyle = 'black';\n",
              "          context.stroke();\n",
              "    <!-- Insert box numbers -->\n",
              "          context.font = '9pt Times New Roman';\n",
              "          context.textAlign = 'center';\n",
              "          context.fillText(3, 218.75 + 0.5*140.625, 0 + 0.5*50.0);\n",
              "    <!-- Insert box numbers -->\n",
              "          context.font = '9pt Times New Roman';\n",
              "          context.textAlign = 'center';\n",
              "          context.fillText(4, 359.375 + 0.5*140.625, 0 + 0.5*50.0);\n",
              "    <!-- Insert box numbers -->\n",
              "          context.font = '9pt Times New Roman';\n",
              "          context.textAlign = 'center';\n",
              "          context.fillText(7, 0 + 0.5*300.0, 230.0 + 0.5*135.0);\n",
              "    <!-- Draw some lines in -->\n",
              "          context.beginPath();\n",
              "          context.rect(300.0, 297.5, 200.0, 1);\n",
              "          context.lineWidth = 1;\n",
              "          context.strokeStyle = 'black';\n",
              "          context.stroke();\n",
              "    <!-- Insert box numbers -->\n",
              "          context.font = '9pt Times New Roman';\n",
              "          context.textAlign = 'center';\n",
              "          context.fillText(10, 0 + 0.5*300.0, 365.0 + 0.5*135.0);\n",
              "    <!-- Draw some lines in -->\n",
              "          context.beginPath();\n",
              "          context.rect(300.0, 432.5, 200.0, 1);\n",
              "          context.lineWidth = 1;\n",
              "          context.strokeStyle = 'black';\n",
              "          context.stroke();\n",
              "    <!-- Insert box numbers -->\n",
              "          context.font = '9pt Times New Roman';\n",
              "          context.textAlign = 'center';\n",
              "          context.fillText(8, 300.0 + 0.5*200.0, 230.0 + 0.5*67.5);\n",
              "    <!-- Insert box numbers -->\n",
              "          context.font = '9pt Times New Roman';\n",
              "          context.textAlign = 'center';\n",
              "          context.fillText(9, 300.0 + 0.5*200.0, 297.5 + 0.5*67.5);\n",
              "    <!-- Insert box numbers -->\n",
              "          context.font = '9pt Times New Roman';\n",
              "          context.textAlign = 'center';\n",
              "          context.fillText(11, 300.0 + 0.5*200.0, 365.0 + 0.5*67.5);\n",
              "    <!-- Insert box numbers -->\n",
              "          context.font = '9pt Times New Roman';\n",
              "          context.textAlign = 'center';\n",
              "          context.fillText(12, 300.0 + 0.5*200.0, 432.5 + 0.5*67.5);\n",
              "     </script>\n",
              "  </body>\n",
              "</html>\n"
            ],
            "text/plain": [
              "<IPython.core.display.HTML object>"
            ]
          },
          "execution_count": 174,
          "metadata": {},
          "output_type": "execute_result"
        }
      ],
      "source": [
        "my_dboard.insert(box_b, 'right', 10,fill_percent=40)\n",
        "my_dboard.insert(box_c, 'below', 11,fill_percent=50)\n",
        "my_dboard.get_preview()"
      ]
    },
    {
      "cell_type": "code",
      "execution_count": null,
      "metadata": {
        "id": "qSw9D0qe-phr"
      },
      "outputs": [],
      "source": [
        "my_dboard['settings']['title'] = 'Covid-19 Tracker India'"
      ]
    },
    {
      "cell_type": "code",
      "execution_count": null,
      "metadata": {
        "id": "YRITzC1g-phr"
      },
      "outputs": [],
      "source": [
        "my_dboard['settings']['logoUrl'] = 'https://thumbs.dreamstime.com/b/caution-stop-covid-new-china-coronavirus-concept-vector-illustration-172377358.jpg'"
      ]
    },
    {
      "cell_type": "code",
      "execution_count": null,
      "metadata": {
        "id": "i141RsFW-phr"
      },
      "outputs": [],
      "source": [
        "my_dboard['settings']['foregroundColor'] = '#000000'\n",
        "my_dboard['settings']['backgroundColor'] = '#ffffff'\n",
        "my_dboard['settings']['headerForegroundColor'] = '#ffffff'\n",
        "my_dboard['settings']['headerBackgroundColor'] = '#72B7B2'\n",
        "my_dboard['settings']['boxBackgroundColor'] = '#72B7B2'\n",
        "my_dboard['settings']['boxBorderColor'] = '#000000'\n",
        "my_dboard['settings']['boxHeaderBackgroundColor'] = '#ffffff'"
      ]
    },
    {
      "cell_type": "code",
      "execution_count": null,
      "metadata": {
        "id": "ER3ZbADW-phr"
      },
      "outputs": [],
      "source": [
        "my_dboard['settings']['fontFamily'] = 'Raleway'\n",
        "my_dboard['settings']['headerFontSize'] = '1.6em'\n",
        "my_dboard['settings']['headerFontWeight'] = '200'"
      ]
    },
    {
      "cell_type": "code",
      "execution_count": null,
      "metadata": {
        "id": "Is3Nd4Wf-phr"
      },
      "outputs": [],
      "source": [
        "stacked_dboard = dashboard.Dashboard()\n",
        "text_box = {\n",
        "    'type': 'box',\n",
        "    'boxType': 'text',\n",
        "    'text': 'empty space'\n",
        "}\n",
        "for _ in range(5):\n",
        "    stacked_dboard.insert(text_box, 'below', 1)"
      ]
    },
    {
      "cell_type": "code",
      "execution_count": null,
      "metadata": {
        "id": "3p0MDYCW-phr"
      },
      "outputs": [],
      "source": [
        "stacked_dboard['layout']['size'] = 2000"
      ]
    },
    {
      "cell_type": "code",
      "execution_count": null,
      "metadata": {
        "id": "Oub8xjsj-phr",
        "outputId": "cafc9009-6cb7-4e00-dd30-14d4b47b1892"
      },
      "outputs": [
        {
          "data": {
            "text/plain": [
              "'https://plotly.com/~apeaksa/45/covid-19-tracker-india/'"
            ]
          },
          "execution_count": 181,
          "metadata": {},
          "output_type": "execute_result"
        }
      ],
      "source": [
        "import chart_studio.plotly as py\n",
        "py.dashboard_ops.upload(my_dboard, 'Covid-19 Tracker India')"
      ]
    }
  ],
  "metadata": {
    "kernelspec": {
      "display_name": "Python 3",
      "language": "python",
      "name": "python3"
    },
    "language_info": {
      "codemirror_mode": {
        "name": "ipython",
        "version": 3
      },
      "file_extension": ".py",
      "mimetype": "text/x-python",
      "name": "python",
      "nbconvert_exporter": "python",
      "pygments_lexer": "ipython3",
      "version": "3.7.0"
    },
    "colab": {
      "provenance": []
    }
  },
  "nbformat": 4,
  "nbformat_minor": 0
}